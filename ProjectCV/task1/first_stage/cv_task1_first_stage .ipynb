{
  "cells": [
    {
      "cell_type": "code",
      "execution_count": null,
      "metadata": {
        "id": "HUJPjiqQdFLq"
      },
      "outputs": [],
      "source": [
        "import os\n",
        "import shutil\n",
        "import random\n",
        "import cv2\n",
        "import matplotlib.pyplot as plt\n",
        "import numpy as np"
      ]
    },
    {
      "cell_type": "code",
      "execution_count": 23,
      "metadata": {
        "id": "Fe78JiML3_Zu"
      },
      "outputs": [],
      "source": [
        "import keras\n",
        "import keras.applications\n",
        "from keras.preprocessing.image import ImageDataGenerator\n",
        "from keras.models import Sequential\n",
        "from keras.layers import Dense\n",
        "from keras.applications import VGG16\n",
        "from keras.applications.vgg16 import preprocess_input"
      ]
    },
    {
      "cell_type": "code",
      "execution_count": null,
      "metadata": {
        "id": "fu3LWt6tf8y-"
      },
      "outputs": [],
      "source": [
        "# os.path.exists() – Returns True if path or directory does exists.\n",
        "# os.path.isfile() – Returns True if path is File.\n",
        "# os.path.isdir() – Returns True if path is Directory.\n",
        "# pathlib.Path.exists() – Returns True if path or directory does exists. (In Python 3.4 and above\n",
        "# shutil.copyfile(src, dst)\n",
        "# shutil.rmtree('dir_path')\n",
        "# os.mkdir(path)"
      ]
    },
    {
      "cell_type": "code",
      "execution_count": 12,
      "metadata": {
        "id": "6mNNub_mraBn"
      },
      "outputs": [],
      "source": [
        "def read_image(image_path,size=(224,224)):\n",
        "  image = cv2.imread(image_path)\n",
        "  image = cv2.resize(image,size)\n",
        "  image = cv2.cvtColor(image, cv2.COLOR_BGR2RGB)\n",
        "  return image\n",
        "\n",
        "def plot_image(img):\n",
        "  plt.imshow(img)\n",
        "  plt.show()\n",
        "\n"
      ]
    },
    {
      "cell_type": "markdown",
      "source": [
        "upload dataset using kaggle\n"
      ],
      "metadata": {
        "id": "niVSpGHtUoUp"
      }
    },
    {
      "cell_type": "code",
      "execution_count": null,
      "metadata": {
        "id": "cD23VtsgdYLJ"
      },
      "outputs": [],
      "source": [
        "! mkdir ~/.kaggle\n",
        "! cp /content/kaggle.json ~/.kaggle/\n",
        "! chmod 600 ~/.kaggle/kaggle.json\n"
      ]
    },
    {
      "cell_type": "code",
      "execution_count": null,
      "metadata": {
        "id": "jnj3Jm42ddEY"
      },
      "outputs": [],
      "source": [
        "!kaggle datasets download -d yousiftito/cv-2023-sc-dataset\n",
        "! unzip /content/cv-2023-sc-dataset"
      ]
    },
    {
      "cell_type": "markdown",
      "source": [
        "## Creat train and validation folders"
      ],
      "metadata": {
        "id": "B2jJq8Mvp5QR"
      }
    },
    {
      "cell_type": "code",
      "source": [
        "if os.path.exists('/content/images'):\n",
        "  shutil.rmtree('/content/images')\n",
        "os.mkdir('/content/images')\n",
        "persons=os.listdir('/content/CV_2023_SC_Dataset')\n",
        "for person in persons:\n",
        "  imgs_path='/content/CV_2023_SC_Dataset/'+person+'/'+'Train/'\n",
        "\n",
        "  for img in os.listdir(imgs_path):\n",
        "    if not img.__contains__('.png'):continue\n",
        "    src=imgs_path+img\n",
        "    dst='/content/images/'+img\n",
        "    shutil.copyfile(src, dst)\n",
        "\n",
        "print(len(os.listdir('/content/images')))"
      ],
      "metadata": {
        "id": "MQHH7GwvqXko",
        "colab": {
          "base_uri": "https://localhost:8080/"
        },
        "outputId": "c92972b5-4b9e-4122-ed59-812bea96ad21"
      },
      "execution_count": 14,
      "outputs": [
        {
          "output_type": "stream",
          "name": "stdout",
          "text": [
            "200\n"
          ]
        }
      ]
    },
    {
      "cell_type": "code",
      "execution_count": 15,
      "metadata": {
        "colab": {
          "base_uri": "https://localhost:8080/"
        },
        "id": "fPvVE1JDgsqs",
        "outputId": "49ead30e-f54b-48a8-a8e5-7061bfcee126"
      },
      "outputs": [
        {
          "output_type": "stream",
          "name": "stdout",
          "text": [
            "160\n",
            "40\n"
          ]
        }
      ],
      "source": [
        " def split_dataset(directory, split=1):\n",
        "    folders = os.listdir(directory)\n",
        "    num_train = int(len(folders)*split)\n",
        "\n",
        "    random.shuffle(folders)\n",
        "\n",
        "    train_list, test_list = [], []\n",
        "\n",
        "    for folder in folders[:num_train]:\n",
        "        train_list.append(folder)\n",
        "\n",
        "    for folder in folders[num_train:]:\n",
        "        test_list.append(folder)\n",
        "\n",
        "    return train_list, test_list\n",
        "\n",
        "train_list, val_list = split_dataset('/content/images', split=.8)\n",
        "print(len(train_list))\n",
        "print(len(val_list))\n"
      ]
    },
    {
      "cell_type": "code",
      "execution_count": 16,
      "metadata": {
        "id": "rZ-FhgkwkEdu"
      },
      "outputs": [],
      "source": [
        "if os.path.exists('/content/train'):\n",
        "  shutil.rmtree('/content/train')\n",
        "c={'aa':1}\n",
        "os.mkdir('/content/train')\n",
        "for img in train_list:\n",
        "  catoeg=img.split('_')[0]\n",
        "  if catoeg not in c.keys():\n",
        "    os.mkdir('/content/train/'+catoeg)\n",
        "    c[catoeg]=1\n",
        "\n",
        "\n",
        "  src='/content/images/'+img\n",
        "  dst='/content/train/'+catoeg+'/'+img\n",
        "  shutil.copyfile(src, dst)\n",
        "\n",
        "c={}\n",
        "if os.path.exists('/content/val'):\n",
        "  shutil.rmtree('/content/val')\n",
        "os.mkdir('/content/val')\n",
        "# shutil.move(\"path/to/current/file.foo\", \"path/to/new/destination/for/file.foo\")\n",
        "\n",
        "\n",
        "for img in val_list:\n",
        "\n",
        "  catoeg=img.split('_')[0]\n",
        "  if catoeg not in c.keys():\n",
        "    os.mkdir('/content/val/'+catoeg)\n",
        "    c[catoeg]=1\n",
        "\n",
        "  src='/content/images/'+img\n",
        "  dst='/content/val/'+catoeg+'/'+img\n",
        "  shutil.copyfile(src, dst)\n",
        "\n",
        "\n",
        "\n",
        "\n",
        "# if os.path.exists('/content/val'):\n",
        "#   shutil.rmtree('/content/val')\n",
        "# os.mkdir('/content/val')"
      ]
    },
    {
      "cell_type": "code",
      "execution_count": null,
      "metadata": {
        "id": "Avo90Ap4rcyw"
      },
      "outputs": [],
      "source": [
        "img=read_image('/content/images/personA_1.png')\n",
        "plot_image(img)\n",
        "img=read_image('/content/images/personB_1.png')\n",
        "plot_image(img)\n",
        "img=read_image('/content/images/personC_1.png')\n",
        "plot_image(img)\n",
        "img=read_image('/content/images/personD_1.png')\n",
        "plot_image(img)\n",
        "img=read_image('/content/images/personE_1.png')\n",
        "plot_image(img)"
      ]
    },
    {
      "cell_type": "markdown",
      "source": [
        "# Creat test folder\n"
      ],
      "metadata": {
        "id": "yRjmVegCsSGI"
      }
    },
    {
      "cell_type": "code",
      "source": [
        "!kaggle datasets download -d yousiftito/test-images"
      ],
      "metadata": {
        "id": "bMm4V_Hp3Lnu"
      },
      "execution_count": null,
      "outputs": []
    },
    {
      "cell_type": "code",
      "execution_count": null,
      "metadata": {
        "id": "JE4gBLYOdwQp"
      },
      "outputs": [],
      "source": [
        "import cv2\n",
        "calsses=['personA','personB','personC','personD','personE']\n",
        "tst_images=[]\n",
        "labels=[]\n",
        "if os.path.exists('/content/test_images'):\n",
        "  shutil.rmtree('/content/test_images')\n",
        "os.mkdir('/content/test_images')\n",
        "persons=os.listdir('/content/CV_2023_SC_Dataset')\n",
        "for person in persons:\n",
        "  imgs_path='/content/CV_2023_SC_Dataset/'+person+'/'+'Test/'\n",
        "  os.mkdir('/content/test_images/'+person.split('_')[0])###\n",
        "  print(person.split('_')[0])\n",
        "  for img in os.listdir(imgs_path):\n",
        "    if not img.__contains__('.png'):continue\n",
        "    src=imgs_path+img\n",
        "    image=read_image(src)\n",
        "    tst_images.append(image)\n",
        "    labels.append(calsses.index(person.split('_')[0]))\n",
        "    dst='/content/test_images/'+person.split('_')[0]+'/'+img\n",
        "    shutil.copyfile(src, dst)\n",
        "\n",
        "print(len(os.listdir('/content/test_images')))"
      ]
    },
    {
      "cell_type": "code",
      "source": [
        "import numpy as np\n",
        "print(tst_images[0].shape)\n",
        "t=np.array(tst_images).reshape(-1,224,224,3)\n",
        "\n",
        "print(len(tst_images))\n",
        "print(len(labels))\n",
        "print(labels)\n"
      ],
      "metadata": {
        "id": "rnQcuhCcsoBx"
      },
      "execution_count": null,
      "outputs": []
    },
    {
      "cell_type": "markdown",
      "source": [
        "# Data generator\n"
      ],
      "metadata": {
        "id": "ogsOt0yWsdNh"
      }
    },
    {
      "cell_type": "code",
      "execution_count": 20,
      "metadata": {
        "id": "9FFUtTNc2CiR"
      },
      "outputs": [],
      "source": [
        "n=5\n",
        "image_size=224\n",
        "batch_train_size=160\n",
        "batch_val_size=40"
      ]
    },
    {
      "cell_type": "code",
      "source": [
        "data_generator=ImageDataGenerator()\n",
        "# categorical_crossentropy\n",
        "train_generator = data_generator.flow_from_directory('/content/train', batch_size = batch_train_size, class_mode = 'categorical', target_size = (image_size, image_size))\n",
        "\n",
        "# Flow validation images in batches of 20 using test_datagen generator\n",
        "val_generator = data_generator.flow_from_directory( '/content/val',  batch_size = batch_val_size, class_mode = 'categorical', target_size = (image_size, image_size))\n",
        "\n",
        "# test_generator = data_generator.flow_from_directory( '/content/test_images',  batch_size = batch_val_size, class_mode = 'categorical', target_size = (image_size, image_size))\n",
        "\n",
        "# print(type(train_generator))\n",
        "# print(len(train_generator))\n",
        "# gg=train_generator.next()\n",
        "# print((gg[0].shape))\n",
        "# print((gg[1].shape))"
      ],
      "metadata": {
        "id": "FEoaRwiWgFqW"
      },
      "execution_count": null,
      "outputs": []
    },
    {
      "cell_type": "markdown",
      "source": [
        "# Creat Model"
      ],
      "metadata": {
        "id": "zJLYpaQHsibY"
      }
    },
    {
      "cell_type": "code",
      "execution_count": null,
      "metadata": {
        "id": "ex4CA7kM6M_1"
      },
      "outputs": [],
      "source": [
        "# from keras.applications.mobilenet_v3 import models\n",
        "from keras.layers import Dense, Activation, Flatten\n",
        "from keras import *\n",
        "import tensorflow as tf\n",
        "model=Sequential()\n",
        "model.add(VGG16(include_top=False,pooling='avg',weights='imagenet',))\n",
        "\n",
        "for layer in model.layers:\n",
        "    layer.trainable = False\n",
        "\n",
        "x = keras.layers.Flatten()(model.output)\n",
        "\n",
        "x = layers.Dense(512, activation='relu')(x)\n",
        "\n",
        "x = layers.Dropout(0.5)(x)\n",
        "\n",
        "x = layers.Dense(5, activation='sigmoid')(x)\n",
        "\n",
        "model = tf.keras.models.Model(model.input, x)\n",
        "\n"
      ]
    },
    {
      "cell_type": "code",
      "execution_count": null,
      "metadata": {
        "id": "diiMV7zo8HHk"
      },
      "outputs": [],
      "source": [
        "model.compile(optimizer ='adam', loss = 'binary_crossentropy',metrics = ['acc'])\n",
        "vgghist = model.fit(train_generator, validation_data = val_generator, steps_per_epoch = 1, epochs = 10)\n"
      ]
    },
    {
      "cell_type": "code",
      "source": [
        "prediction=model.predict(t)\n"
      ],
      "metadata": {
        "id": "T1V0WQTgwgEa"
      },
      "execution_count": null,
      "outputs": []
    },
    {
      "cell_type": "code",
      "source": [
        "col2=[]\n",
        "for x in prediction :\n",
        "    col2.append(np.argmax(x))\n",
        "\n",
        "predicted=np.array(col2)\n",
        "actual=np.array(labels)\n",
        "\n"
      ],
      "metadata": {
        "id": "P6g_BWAg0yga"
      },
      "execution_count": 28,
      "outputs": []
    },
    {
      "cell_type": "markdown",
      "source": [
        "# Accurecy"
      ],
      "metadata": {
        "id": "zNffQnZ-1ezT"
      }
    },
    {
      "cell_type": "code",
      "source": [
        "from sklearn import metrics\n",
        "# confusion_matrix = metrics.confusion_matrix(actual, predicted)\n",
        "Accuracy = metrics.accuracy_score(actual, predicted)\n",
        "print(Accuracy)\n"
      ],
      "metadata": {
        "id": "lAfkz_s71ByD"
      },
      "execution_count": null,
      "outputs": []
    },
    {
      "cell_type": "code",
      "source": [
        "model.save('model/model.tfl')"
      ],
      "metadata": {
        "id": "FfnqZJQK2mML"
      },
      "execution_count": 30,
      "outputs": []
    },
    {
      "cell_type": "code",
      "source": [
        "!zip -r /content/model_zipped.zip /content/model"
      ],
      "metadata": {
        "id": "RYn4B4Po474L"
      },
      "execution_count": null,
      "outputs": []
    },
    {
      "cell_type": "code",
      "source": [
        "from google.colab import files\n",
        "\n",
        "files.download('/content/model_zipped.zip')"
      ],
      "metadata": {
        "colab": {
          "base_uri": "https://localhost:8080/",
          "height": 17
        },
        "id": "924xJnVl47yr",
        "outputId": "5cfff4d4-3183-4861-ad42-35b705b9ed14"
      },
      "execution_count": null,
      "outputs": [
        {
          "output_type": "display_data",
          "data": {
            "text/plain": [
              "<IPython.core.display.Javascript object>"
            ],
            "application/javascript": [
              "\n",
              "    async function download(id, filename, size) {\n",
              "      if (!google.colab.kernel.accessAllowed) {\n",
              "        return;\n",
              "      }\n",
              "      const div = document.createElement('div');\n",
              "      const label = document.createElement('label');\n",
              "      label.textContent = `Downloading \"${filename}\": `;\n",
              "      div.appendChild(label);\n",
              "      const progress = document.createElement('progress');\n",
              "      progress.max = size;\n",
              "      div.appendChild(progress);\n",
              "      document.body.appendChild(div);\n",
              "\n",
              "      const buffers = [];\n",
              "      let downloaded = 0;\n",
              "\n",
              "      const channel = await google.colab.kernel.comms.open(id);\n",
              "      // Send a message to notify the kernel that we're ready.\n",
              "      channel.send({})\n",
              "\n",
              "      for await (const message of channel.messages) {\n",
              "        // Send a message to notify the kernel that we're ready.\n",
              "        channel.send({})\n",
              "        if (message.buffers) {\n",
              "          for (const buffer of message.buffers) {\n",
              "            buffers.push(buffer);\n",
              "            downloaded += buffer.byteLength;\n",
              "            progress.value = downloaded;\n",
              "          }\n",
              "        }\n",
              "      }\n",
              "      const blob = new Blob(buffers, {type: 'application/binary'});\n",
              "      const a = document.createElement('a');\n",
              "      a.href = window.URL.createObjectURL(blob);\n",
              "      a.download = filename;\n",
              "      div.appendChild(a);\n",
              "      a.click();\n",
              "      div.remove();\n",
              "    }\n",
              "  "
            ]
          },
          "metadata": {}
        },
        {
          "output_type": "display_data",
          "data": {
            "text/plain": [
              "<IPython.core.display.Javascript object>"
            ],
            "application/javascript": [
              "download(\"download_c158cfce-e972-4447-9cfc-e9b084fff2b5\", \"model_zipped.zip\", 57357010)"
            ]
          },
          "metadata": {}
        }
      ]
    }
  ],
  "metadata": {
    "accelerator": "GPU",
    "colab": {
      "provenance": []
    },
    "gpuClass": "standard",
    "kernelspec": {
      "display_name": "Python 3",
      "name": "python3"
    },
    "language_info": {
      "name": "python"
    }
  },
  "nbformat": 4,
  "nbformat_minor": 0
}