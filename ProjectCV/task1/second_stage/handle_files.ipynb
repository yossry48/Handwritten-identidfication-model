{
 "cells": [
  {
   "cell_type": "code",
   "execution_count": 7,
   "metadata": {},
   "outputs": [],
   "source": [
    "import os\n",
    "import pandas as pd\n",
    "import numpy as np\n",
    "import cv2\n",
    "import shutil"
   ]
  },
  {
   "cell_type": "code",
   "execution_count": 8,
   "metadata": {},
   "outputs": [
    {
     "name": "stdout",
     "output_type": "stream",
     "text": [
      "['personA', 'personB', 'personC', 'personD', 'personE']\n"
     ]
    }
   ],
   "source": [
    "persons=os.listdir('CV_2023_SC_Dataset')\n",
    "print(persons)"
   ]
  },
  {
   "cell_type": "code",
   "execution_count": 9,
   "metadata": {},
   "outputs": [],
   "source": [
    "def prepare_data(ss):\n",
    "    for person in persons:\n",
    "        path='CV_2023_SC_Dataset\\\\'+person+ss\n",
    "        paths=os.listdir(path)\n",
    "        if  os.path.exists(path+\"\\\\forged\"):\n",
    "            shutil.rmtree(path+\"\\\\forged\")\n",
    "            \n",
    "        if  os.path.exists(path+\"\\\\real\"):\n",
    "            shutil.rmtree(path+\"\\\\real\")\n",
    "            \n",
    "        os.makedirs(path+\"\\\\forged\")\n",
    "        os.makedirs(path+\"\\\\real\")\n",
    "        csv_file=[i for i in paths if i.__contains__('.csv')][0]\n",
    "        df=pd.read_csv(path+\"\\\\\"+csv_file)\n",
    "        # print(df.head())\n",
    "        # print()\n",
    "        # print()\n",
    "        \n",
    "        \n",
    "        # print(csv_file)\n",
    "        for img_name in paths:\n",
    "            if img_name.__contains__('forged'):continue\n",
    "            if img_name.__contains__('real'):continue\n",
    "\n",
    "            img_path=path+\"\\\\\"+img_name\n",
    "            if img_name.__contains__('.csv'):\n",
    "                # os.remove(img_path)\n",
    "                continue\n",
    "\n",
    "            # print(img_name)\n",
    "            s=df[df['image_name']==img_name]\n",
    "            if s.shape[0]==0: continue\n",
    "            # print(s)\n",
    "            \n",
    "            \n",
    "            s=s.iloc[0,1]\n",
    "            img = cv2.imread(img_path)\n",
    "            cv2.imwrite(f\"{path}\\\\{s}\\\\{img_name}\",img)\n",
    "            # os.remove(img_path)\n",
    "            \n",
    "            # print(img_path)\n",
    "\n",
    "        print(\"#########################################\")\n",
    "    "
   ]
  },
  {
   "cell_type": "code",
   "execution_count": 11,
   "metadata": {},
   "outputs": [
    {
     "name": "stdout",
     "output_type": "stream",
     "text": [
      "#########################################\n",
      "#########################################\n",
      "#########################################\n",
      "#########################################\n",
      "#########################################\n",
      "#########################################\n",
      "#########################################\n",
      "#########################################\n",
      "#########################################\n",
      "#########################################\n"
     ]
    }
   ],
   "source": [
    "prepare_data('\\Train')\n",
    "prepare_data('\\Test')"
   ]
  }
 ],
 "metadata": {
  "kernelspec": {
   "display_name": "Python 3 (ipykernel)",
   "language": "python",
   "name": "python3"
  },
  "language_info": {
   "codemirror_mode": {
    "name": "ipython",
    "version": 3
   },
   "file_extension": ".py",
   "mimetype": "text/x-python",
   "name": "python",
   "nbconvert_exporter": "python",
   "pygments_lexer": "ipython3",
   "version": "3.10.10"
  },
  "vscode": {
   "interpreter": {
    "hash": "8ecf2e6c61c09b29c460e93b0aa1bc8a3e3a9df306920f729aaf7bf545a502e4"
   }
  }
 },
 "nbformat": 4,
 "nbformat_minor": 2
}
